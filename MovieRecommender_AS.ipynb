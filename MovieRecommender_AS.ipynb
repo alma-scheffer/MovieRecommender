{
  "nbformat": 4,
  "nbformat_minor": 0,
  "metadata": {
    "colab": {
      "name": "MovieRecommender_AS.ipynb",
      "provenance": [],
      "collapsed_sections": [
        "mAR-Ifu9eCZC",
        "zlSZn9oNQNF-"
      ],
      "include_colab_link": true
    },
    "kernelspec": {
      "name": "python3",
      "display_name": "Python 3"
    },
    "language_info": {
      "name": "python"
    }
  },
  "cells": [
    {
      "cell_type": "markdown",
      "metadata": {
        "id": "view-in-github",
        "colab_type": "text"
      },
      "source": [
        "<a href=\"https://colab.research.google.com/github/alma-scheffer/MovieRecommender/blob/main/MovieRecommender_AS.ipynb\" target=\"_parent\"><img src=\"https://colab.research.google.com/assets/colab-badge.svg\" alt=\"Open In Colab\"/></a>"
      ]
    },
    {
      "cell_type": "markdown",
      "metadata": {
        "id": "UgHFbb7-Iyuw"
      },
      "source": [
        "**FINE TUNE / TODO**\n",
        "- add filter for \"genre\" for target set! **future step**\n",
        "- record a video, when it is working! / save it as back-up\n",
        "- list abilities, currently possible;\n",
        "- list abilities, currently NOT possible;\n",
        "- dropped all lines with numVotes < 500 -> **improves speed**"
      ]
    },
    {
      "cell_type": "markdown",
      "metadata": {
        "id": "2OwKZQdWcmOt"
      },
      "source": [
        "# Import all necessary sources"
      ]
    },
    {
      "cell_type": "code",
      "metadata": {
        "id": "kC7nvN1Lb7tu"
      },
      "source": [
        "!pip install --quiet gradio"
      ],
      "execution_count": null,
      "outputs": []
    },
    {
      "cell_type": "code",
      "metadata": {
        "colab": {
          "base_uri": "https://localhost:8080/"
        },
        "id": "3SRaUFUvbhOT",
        "outputId": "82e2dec1-a2f3-43f1-e4e7-1ee3551cac63"
      },
      "source": [
        "import pandas as pd\n",
        "import numpy as np\n",
        "import matplotlib.pyplot as plt\n",
        "import seaborn as sns\n",
        "from sklearn.neighbors import NearestNeighbors\n",
        "from sklearn.preprocessing import StandardScaler\n",
        "\n",
        "import gradio as gr\n",
        "import requests\n",
        "\n",
        "from google.colab import drive\n",
        "drive.mount('/content/drive')"
      ],
      "execution_count": null,
      "outputs": [
        {
          "output_type": "stream",
          "name": "stdout",
          "text": [
            "Drive already mounted at /content/drive; to attempt to forcibly remount, call drive.mount(\"/content/drive\", force_remount=True).\n"
          ]
        }
      ]
    },
    {
      "cell_type": "markdown",
      "metadata": {
        "id": "x53r4UlvIlDP"
      },
      "source": [
        "https://docs.google.com/document/d/1VF8KSppXcbly7NbVds5LQqwLC8T0uGpDKZFseJGv3xE/edit"
      ]
    },
    {
      "cell_type": "markdown",
      "metadata": {
        "id": "02peF5BbctuB"
      },
      "source": [
        "title_movies_fin is our clean and \"light\" dataset."
      ]
    },
    {
      "cell_type": "code",
      "metadata": {
        "id": "0aRNyTamXUnL"
      },
      "source": [
        "# Okay, I cannot input from shared drive, so I use the one, which is in my drive. \n",
        "# If you copy the csv (saved also in the project file) and save in your drives most probably you can access this and play around. \n",
        "title_movies_fin = pd.read_csv('/content/drive/MyDrive/title_movies.csv')"
      ],
      "execution_count": null,
      "outputs": []
    },
    {
      "cell_type": "code",
      "metadata": {
        "id": "9lrunQH_MSaa"
      },
      "source": [
        "title_movies_fin = title_movies_fin.sort_values(by = \"numVotes\", ascending = False)"
      ],
      "execution_count": null,
      "outputs": []
    },
    {
      "cell_type": "code",
      "metadata": {
        "id": "ym39Fi2lZLXa",
        "colab": {
          "base_uri": "https://localhost:8080/"
        },
        "outputId": "f54d09d5-a112-4f60-eb51-6a1560b71c06"
      },
      "source": [
        "title_movies_fin.info()"
      ],
      "execution_count": null,
      "outputs": [
        {
          "output_type": "stream",
          "name": "stdout",
          "text": [
            "<class 'pandas.core.frame.DataFrame'>\n",
            "Int64Index: 246361 entries, 62788 to 169714\n",
            "Data columns (total 41 columns):\n",
            " #   Column          Non-Null Count   Dtype  \n",
            "---  ------          --------------   -----  \n",
            " 0   Unnamed: 0      246361 non-null  int64  \n",
            " 1   title_id        246361 non-null  object \n",
            " 2   titleType       246361 non-null  object \n",
            " 3   primaryTitle    246361 non-null  object \n",
            " 4   originalTitle   246361 non-null  object \n",
            " 5   isAdult         246361 non-null  int64  \n",
            " 6   startYear       246361 non-null  float64\n",
            " 7   runtimeMinutes  246361 non-null  float64\n",
            " 8   genres          246361 non-null  object \n",
            " 9   averageRating   246361 non-null  float64\n",
            " 10  numVotes        246361 non-null  float64\n",
            " 11  Action          246361 non-null  int64  \n",
            " 12  Adult           246361 non-null  int64  \n",
            " 13  Adventure       246361 non-null  int64  \n",
            " 14  Animation       246361 non-null  int64  \n",
            " 15  Biography       246361 non-null  int64  \n",
            " 16  Comedy          246361 non-null  int64  \n",
            " 17  Crime           246361 non-null  int64  \n",
            " 18  Documentary     246361 non-null  int64  \n",
            " 19  Drama           246361 non-null  int64  \n",
            " 20  Family          246361 non-null  int64  \n",
            " 21  Fantasy         246361 non-null  int64  \n",
            " 22  Film-Noir       246361 non-null  int64  \n",
            " 23  Game-Show       246361 non-null  int64  \n",
            " 24  History         246361 non-null  int64  \n",
            " 25  Horror          246361 non-null  int64  \n",
            " 26  Music           246361 non-null  int64  \n",
            " 27  Musical         246361 non-null  int64  \n",
            " 28  Mystery         246361 non-null  int64  \n",
            " 29  News            246361 non-null  int64  \n",
            " 30  Reality-TV      246361 non-null  int64  \n",
            " 31  Romance         246361 non-null  int64  \n",
            " 32  Sci-Fi          246361 non-null  int64  \n",
            " 33  Short           246361 non-null  int64  \n",
            " 34  Sport           246361 non-null  int64  \n",
            " 35  Talk-Show       246361 non-null  int64  \n",
            " 36  Thriller        246361 non-null  int64  \n",
            " 37  War             246361 non-null  int64  \n",
            " 38  Western         246361 non-null  int64  \n",
            " 39  other           246361 non-null  int64  \n",
            " 40  actors          246361 non-null  object \n",
            "dtypes: float64(4), int64(31), object(6)\n",
            "memory usage: 78.9+ MB\n"
          ]
        }
      ]
    },
    {
      "cell_type": "code",
      "metadata": {
        "id": "sO2KtLmDE_gf"
      },
      "source": [
        "title_movies_fin.head()"
      ],
      "execution_count": null,
      "outputs": []
    },
    {
      "cell_type": "code",
      "metadata": {
        "colab": {
          "base_uri": "https://localhost:8080/"
        },
        "id": "CMQTGbPhdst-",
        "outputId": "92d9a619-e9ed-4485-de6d-473b4d7c71f1"
      },
      "source": [
        "title_movies_fin.columns"
      ],
      "execution_count": null,
      "outputs": [
        {
          "output_type": "execute_result",
          "data": {
            "text/plain": [
              "Index(['Unnamed: 0', 'title_id', 'titleType', 'primaryTitle', 'originalTitle',\n",
              "       'isAdult', 'startYear', 'runtimeMinutes', 'genres', 'averageRating',\n",
              "       'numVotes', 'Action', 'Adult', 'Adventure', 'Animation', 'Biography',\n",
              "       'Comedy', 'Crime', 'Documentary', 'Drama', 'Family', 'Fantasy',\n",
              "       'Film-Noir', 'Game-Show', 'History', 'Horror', 'Music', 'Musical',\n",
              "       'Mystery', 'News', 'Reality-TV', 'Romance', 'Sci-Fi', 'Short', 'Sport',\n",
              "       'Talk-Show', 'Thriller', 'War', 'Western', 'other', 'actors'],\n",
              "      dtype='object')"
            ]
          },
          "metadata": {},
          "execution_count": 214
        }
      ]
    },
    {
      "cell_type": "code",
      "metadata": {
        "id": "FcJg0JLbyaoc"
      },
      "source": [
        "## MAYBE TO DROP ROWS WITH NUMVOTES < 500 OR < 1000\n",
        "# 500: 53 k rows remain\n",
        "# 1000: 36 k rows remain\n",
        "# title_movies_fin[title_movies_fin[\"numVotes\"] >500].shape"
      ],
      "execution_count": null,
      "outputs": []
    },
    {
      "cell_type": "code",
      "metadata": {
        "id": "fQYD9J8bVPcV"
      },
      "source": [
        "title_movies_fin = title_movies_fin[title_movies_fin[\"numVotes\"] >500]\n",
        "# This is already significantly improving recommendation speed: from ~ 30 sec. reduces to 1 -2 sec."
      ],
      "execution_count": null,
      "outputs": []
    },
    {
      "cell_type": "markdown",
      "metadata": {
        "id": "ftmEsuYwc1Iz"
      },
      "source": [
        "# Create the KNN modell"
      ]
    },
    {
      "cell_type": "markdown",
      "metadata": {
        "id": "UPgrv6qfck0O"
      },
      "source": [
        "First create the KNN modell, while using n_neighbors = 5 - > we can create 4 movies to watch. (1st item is itself.)"
      ]
    },
    {
      "cell_type": "code",
      "metadata": {
        "id": "sOQAkxYnXRSq"
      },
      "source": [
        "# First create the modell on the numerical columns:\n",
        "X = title_movies_fin[['isAdult', 'startYear', 'runtimeMinutes',  'averageRating', 'numVotes', 'Action', 'Adult', \\\n",
        "                      'Adventure', 'Animation', 'Biography','Comedy', 'Crime', 'Documentary', 'Drama', 'Family', \\\n",
        "                      'Fantasy','Film-Noir', 'Game-Show', 'History', 'Horror', 'Music', 'Musical', 'Mystery', \\\n",
        "                      'News', 'Reality-TV', 'Romance', 'Sci-Fi', 'Short', 'Sport', 'Talk-Show', 'Thriller', \\\n",
        "                      'War', 'Western', 'other']]\n",
        "# Target is to provide a primaryTitle / or a list of titles\n",
        "y = title_movies_fin[\"title_id\"]\n",
        "\n",
        "# Use scaler to standardize\n",
        "scaler = StandardScaler()\n",
        "scaler.fit(X)\n",
        "X_scaled = scaler.transform(X)\n",
        "\n",
        "# Fit / train the modell on X_scaled\n",
        "distanceKNN = NearestNeighbors(n_neighbors=5).fit(X_scaled)"
      ],
      "execution_count": null,
      "outputs": []
    },
    {
      "cell_type": "markdown",
      "metadata": {
        "id": "mAR-Ifu9eCZC"
      },
      "source": [
        "# Create the recommendation function and the interface for the user to interact"
      ]
    },
    {
      "cell_type": "code",
      "metadata": {
        "id": "weKOj8CBdKdk"
      },
      "source": [
        "\"\"\"\n",
        "# I needed to adjust the index to access the movietitle, because seems that when I saved the csv\n",
        "# I have created a new column with indexes \"Unnamed\"\n",
        "\n",
        "def replace(movieString):\n",
        "  # Check if we are searching on id:\n",
        "  if movieString[0:2] == \"tt\":\n",
        "\n",
        "    # First get the needed columns in X_scaled for the movie, for which we want to find the neighbours\n",
        "    neighborsearchID = X_scaled[title_movies_fin[\"title_id\"] == movieString]\n",
        "    messageID = \"You should check out the following movies: \" +  \"\\n\"\n",
        "    \n",
        "    # Locate the neighbors place - > access their name and add to the message for the user\n",
        "    for i in range(1,5):\n",
        "      messageID += title_movies_fin.iloc[distanceKNN.kneighbors([neighborsearchID][0])[1][0][i]][3] + \"\\n\"\n",
        "    return movieString.replace(movieString, messageID)\n",
        "  \n",
        "  # Or we are searching on primaryTitle:\n",
        "  else:\n",
        "    \n",
        "    neighborsearchTitle = X_scaled[title_movies_fin[\"primaryTitle\"].str.contains(movieString, case = True)]\n",
        "    messageTitle = \"You should check out the following movies: \" +  \"\\n\"\n",
        "    \n",
        "    for i in range(1,5):\n",
        "      messageTitle += title_movies_fin.iloc[distanceKNN.kneighbors([neighborsearchTitle][0])[1][0][i]][3] + \"\\n\"\n",
        "    return movieString.replace(movieString, messageTitle)\n",
        "\n",
        "# The interface: adding the title and the introduction paragraph\n",
        "iface = gr.Interface(fn = replace, inputs=[\"textbox\"], outputs=\"textbox\",\n",
        "    title=\"MOVIE RECOMMENDER\",\n",
        "    description=\"Type the title or the ID of your favorite movie from IMDB \\\n",
        "    and we recommend you 4 other movies, which you might like.\" + \"\\n\" + \\\n",
        "    \"Enjoy playing around and have a great MovieMarathon!\", \n",
        "    theme = \"darkhuggingface\",\n",
        ")\n",
        "\n",
        "iface.launch()\"\"\"\n"
      ],
      "execution_count": null,
      "outputs": []
    },
    {
      "cell_type": "markdown",
      "metadata": {
        "id": "zlSZn9oNQNF-"
      },
      "source": [
        "# Second version, with the feature to specify year"
      ]
    },
    {
      "cell_type": "markdown",
      "metadata": {
        "id": "Zp8dG0gWACKM"
      },
      "source": [
        "This version contains the following enhanced features:\n",
        "- Added year as filter to specify if multiple searches.\n",
        "- Added error messages, where the search fails.\n",
        "- Another message could be added, if there are multiple results to specify / instead of automatically choosing the first. \n",
        "- Provides result also for not 100% match."
      ]
    },
    {
      "cell_type": "code",
      "metadata": {
        "id": "SkkfyvjhCZON"
      },
      "source": [
        "# Not needed I just wanted to check the steps for the correct way of filtering / what kind of input I need for the X_scaled\n",
        "# (title_movies_fin[\"primaryTitle\"] == \"Bohemios\") & (title_movies_fin[\"startYear\"] == 1905)"
      ],
      "execution_count": null,
      "outputs": []
    },
    {
      "cell_type": "code",
      "metadata": {
        "id": "DAs3lJG7Kzek"
      },
      "source": [
        "# Same, not needed, but to check, how the non-existing items search result looks \n",
        "# neighborsearchID = X_scaled[title_movies_fin[\"primaryTitle\"] == \"Bohemian\"]"
      ],
      "execution_count": null,
      "outputs": []
    },
    {
      "cell_type": "code",
      "metadata": {
        "id": "QGlxVDuEQ0nT"
      },
      "source": [
        "# According to documentation you can create a dropdown menu, which sounds great."
      ],
      "execution_count": null,
      "outputs": []
    },
    {
      "cell_type": "code",
      "metadata": {
        "id": "JxwWvYspAAEa"
      },
      "source": [
        "#@title\n",
        "# I needed to adjust the index to access the movietitle, because seems that when I saved the csv\n",
        "# I have created a new column with indexes \"Unnamed\"\n",
        "\"\"\"\n",
        "def replace(movieString, movieYear, chooseGenre):\n",
        "  # Check if movieYear filled:\n",
        "  if movieYear == \"\":\n",
        "\n",
        "    # Check if we are searching on id:\n",
        "    if movieString[0:2] == \"tt\":\n",
        "\n",
        "      # First get the needed columns in X_scaled for the movie, for which we want to find the neighbours\n",
        "      neighborsearchID = X_scaled[title_movies_fin[\"title_id\"] == movieString]\n",
        "\n",
        "      # If the search resulted on empty df, provide the feedback for the user.\n",
        "      if neighborsearchID.size == 0:\n",
        "        messageError1 = \"Your movie is not in our database: please re-check your input.\"\n",
        "        return movieString.replace(movieString, messageError1)\n",
        "\n",
        "      # Else print the nearest neighbors\n",
        "      else: \n",
        "        messageID = \"You should check out the following movies: \" +  \"\\n\"\n",
        "    \n",
        "      # Locate the neighbors place - > access their name and add to the message for the user\n",
        "        for i in range(1,5):\n",
        "          messageID += title_movies_fin.iloc[distanceKNN.kneighbors([neighborsearchID][0])[1][0][i]][3] + \"\\n\"\n",
        "        return movieString.replace(movieString, messageID)\n",
        "\n",
        "    # Or we are searching on primaryTitle:\n",
        "    else:\n",
        "      neighborsearchTitle1 = X_scaled[title_movies_fin[\"primaryTitle\"].str.contains(movieString, case = True)]\n",
        "      \n",
        "      if neighborsearchTitle1.size == 0:\n",
        "        messageError2 = \"Your movie is not in our database: please re-check your input.\"\n",
        "        return movieString.replace(movieString, messageError2)\n",
        "      \n",
        "      else:\n",
        "        messageTitle1 = \"You should check out the following movies: \" +  \"\\n\"\n",
        "    \n",
        "        for i in range(1,5):\n",
        "          messageTitle1 += title_movies_fin.iloc[distanceKNN.kneighbors([neighborsearchTitle1][0])[1][0][i]][3] + \"\\n\"\n",
        "        return movieString.replace(movieString, messageTitle1)\n",
        "\n",
        "\n",
        "  # If the user added correctly numeric data for movieYear:\n",
        "  elif movieYear.isnumeric() == True:\n",
        "    movieYear = int(movieYear)\n",
        "\n",
        "    # Check if movieString, either id or title is filled:\n",
        "    if movieString == \"\":\n",
        "\n",
        "      messageTitle2 = \"You have not chosen a movie: please help us to recommmend.\"\n",
        "      return movieString.replace(movieString, messageTitle2)\n",
        "\n",
        "\n",
        "    # We can improve our search in the database:\n",
        "    else:\n",
        "      neighborsearchTitle2 = X_scaled[(title_movies_fin[\"primaryTitle\"].str.contains(movieString, case = True)) & (title_movies_fin[\"startYear\"] == movieYear)]\n",
        "      if neighborsearchTitle2.size == 0:\n",
        "        messageError3 = \"Your movie is not in our database: please re-check your input.\"\n",
        "        return movieString.replace(movieString, messageError3)\n",
        "      else:\n",
        "        messageTitle2 = \"You should check out the following movies: \" +  \"\\n\"\n",
        "    \n",
        "        for i in range(1,5):\n",
        "          messageTitle2 += title_movies_fin.iloc[distanceKNN.kneighbors([neighborsearchTitle2][0])[1][0][i]][3] + \"\\n\"\n",
        "        return movieString.replace(movieString, messageTitle2)\n",
        "  \n",
        "  # If movieYear is neither numeric, nor empty, then the input is not correct, so send an error message:\n",
        "  else:\n",
        "    messageError = (\"You are trying to input invalid information\")\n",
        "    return movieString.replace(movieString, messageError)\n",
        "\n",
        "    \n",
        "# The interface: adding the title and the introduction paragraph\n",
        "iface = gr.Interface(fn = replace, inputs=[\"textbox\", \"textbox\"], outputs=\"textbox\",\n",
        "    title=\"MOVIE RECOMMENDER\",\n",
        "    description=\"Type the title or the ID of your favorite movie from IMDB \\\n",
        "    and we recommend you 4 other movies, which you might like.\" + \"\\n\" + \\\n",
        "    \"Enjoy playing around and have a great MovieMarathon!\", \n",
        "    theme = \"darkhuggingface\"\n",
        ")\n",
        "\n",
        "iface.launch()\n",
        "\"\"\""
      ],
      "execution_count": null,
      "outputs": []
    },
    {
      "cell_type": "markdown",
      "metadata": {
        "id": "7AYsb1VtQnyd"
      },
      "source": [
        "# Actual version: movie (id, title, originalTitle), actor, genre, year filters"
      ]
    },
    {
      "cell_type": "markdown",
      "metadata": {
        "id": "tmtAlgw7Rq_B"
      },
      "source": [
        "https://github.com/gradio-app/gradio/blob/master/demo/titanic_survival.py"
      ]
    },
    {
      "cell_type": "code",
      "metadata": {
        "id": "eBjbiLQWPgEB"
      },
      "source": [
        "# So basically you can also filter the database with \"genre\"\n",
        "# with the following code // it is better to use directly the genres column than the dummies\n",
        "# title_movies_fin[title_movies_fin[\"genres\"].str.contains(\"Documentary\")]"
      ],
      "execution_count": null,
      "outputs": []
    },
    {
      "cell_type": "code",
      "metadata": {
        "id": "K_h1DDrg3HV4"
      },
      "source": [
        "# We can also generate the genreTypes from title_movies_fin.columns[11:], while filtering only colum\n",
        "genreTypes = ['War','Adult','Sci-Fi','Talk-Show','Animation','Musical','Family','Sport','Adventure','News','Game-Show','Short','Comedy','Action','History','Biography','Drama','Crime','Film-Noir','Romance','Documentary','Thriller','Western','','Mystery','Reality-TV','Fantasy','Horror','Music']\n",
        "# sorted(genreTypes)"
      ],
      "execution_count": null,
      "outputs": []
    },
    {
      "cell_type": "code",
      "metadata": {
        "colab": {
          "base_uri": "https://localhost:8080/",
          "height": 640
        },
        "id": "aXkL9-XOOBrU",
        "outputId": "02f825ed-76d6-4cf2-d7e3-dfd117431c2d"
      },
      "source": [
        "# Let's do a different logic for the interface, where we split functions: \n",
        "# Filtering, to search for a movie and\n",
        "# Either error message, if input is faulty\n",
        "# Or recommendation\n",
        "\n",
        "def replace(movieString, actor, genre, movieYear):\n",
        "  # first set up the filters based on user input\n",
        "  filterID = title_movies_fin[\"title_id\"] == movieString\n",
        "  filterTitle = (title_movies_fin[\"primaryTitle\"].str.contains(movieString, case = False)) | \\\n",
        "  (title_movies_fin[\"originalTitle\"].str.contains(movieString, case = False)) \n",
        "  \n",
        "  # if I have not specified what to do with missing movieYear, the program was not running\n",
        "  if movieYear == \"\":\n",
        "    filterYear = True\n",
        "  elif movieYear.isnumeric() == True:\n",
        "    filterYear = title_movies_fin[\"startYear\"] == int(movieYear)\n",
        "  else:\n",
        "    return \"Year is not numeric, please re-check\"\n",
        "  filterGenre = title_movies_fin[\"genres\"].str.contains(genre, case = True)\n",
        "  filterActor = title_movies_fin[\"actors\"].str.contains(actor, case = False)\n",
        "\n",
        "\n",
        "  # After defining the filters we can check, if we search based on Id or title (primary or original)\n",
        "  # Searching on ID means, first 2 character is tt\n",
        "  if movieString[0:2] == \"tt\":\n",
        "    \n",
        "    # Saving the movie \"features\" from the standardized data set, for which we are searching for the neighbors\n",
        "    neighborsearchID = X_scaled[filterID & filterYear & filterGenre & filterActor]\n",
        "\n",
        "    # If the movie \"feature\" has an a shape(0,34), means that there was no result according to our criteria\n",
        "    if neighborsearchID.shape == (0,34):\n",
        "      return \"I'm sorry, but there is no movie according your search criteria in our database\"\n",
        "\n",
        "    # If the result has a shape 1,34, means that there is exactly one row matching our search criteria  \n",
        "    elif neighborsearchID.shape == (1,34):\n",
        "      messageID1 = []\n",
        "      \n",
        "      # So we can recommend 4 other movies\n",
        "      for i in range(1,5):\n",
        "          messageID1.append(title_movies_fin.iloc[distanceKNN.kneighbors([neighborsearchID][0])[1][0][i]][3])\n",
        "          messageID1.append(title_movies_fin.iloc[distanceKNN.kneighbors([neighborsearchID][0])[1][0][i]][40])\n",
        "      return f\"\"\"You should check out the following movies: \\n- {messageID1[0]} with {messageID1[1]}, \\\n",
        "      \\n- {messageID1[2]} with {messageID1[3]}, \\n- {messageID1[4]} with {messageID1[5]}, \\\n",
        "      \\n- {messageID1[6]} with {messageID1[7]} \"\"\"\n",
        "\n",
        "    # Else we have multiple results and we wanna make it clear for the user, that we are not sure\n",
        "    else:\n",
        "      messageID2 = [\"Did you like \", title_movies_fin[filterID & filterYear & filterGenre & filterActor].iloc[0][3], \\\n",
        "                    \"with \", title_movies_fin[filterID & filterYear & filterGenre & filterActor].iloc[0][40]]\n",
        "      for i in range(1,5):\n",
        "          messageID2.append(title_movies_fin.iloc[distanceKNN.kneighbors([neighborsearchID][0])[1][0][i]][3])\n",
        "          messageID2.append(title_movies_fin.iloc[distanceKNN.kneighbors([neighborsearchID][0])[1][0][i]][40])\n",
        "      return f\"\"\"{messageID2[0]}{messageID2[1]}{messageID2[2]} {messageID2[3]}?\\n\\nThen you should check out the following \\\n",
        "movies: \\n- {messageID2[4]} with {messageID2[5]}, \\n- {messageID2[6]} with {messageID2[7]}, \\n- {messageID2[8]} with {messageID2[9]},\\\n",
        " \\n- {messageID2[10]} with {messageID2[11]}\"\"\"\n",
        "\n",
        "  # Here we search based on either primaryTitle or originalTitle\n",
        "  else:\n",
        "    # Same logic, define what you search in dataset and save the result in neighborsearch variable\n",
        "    neighborsearchTitle = X_scaled[filterTitle & filterYear & filterGenre & filterActor]\n",
        "    \n",
        "    # Check if we have zero - one - or many matches and communicate accordingly\n",
        "    if neighborsearchTitle.shape == (0,34):\n",
        "      return \"I'm sorry, but there is no movie according your search criteria in our database\"\n",
        "    elif neighborsearchTitle.shape == (1,34):\n",
        "    #else:\n",
        "      messageTitle1 = []\n",
        "      for i in range(1,5):\n",
        "          messageTitle1.append(title_movies_fin.iloc[distanceKNN.kneighbors([neighborsearchTitle][0])[1][0][i]][3])\n",
        "          messageTitle1.append(title_movies_fin.iloc[distanceKNN.kneighbors([neighborsearchTitle][0])[1][0][i]][40])\n",
        "      return f\"\"\"You should check out the following movies: \\n- {messageTitle1[0]} with {messageTitle1[1]}, \\\n",
        "      \\n- {messageTitle1[2]} with {messageTitle1[3]}, \\n- {messageTitle1[4]} with {messageTitle1[5]}, \\\n",
        "      \\n- {messageTitle1[6]} with {messageTitle1[7]}\"\"\"\n",
        "    else:\n",
        "      messageTitle2 = [\"Did you like \", title_movies_fin[filterTitle & filterYear & filterGenre & filterActor].iloc[0][3], \\\n",
        "                    \"with \", title_movies_fin[filterTitle & filterYear & filterGenre & filterActor].iloc[0][40]]\n",
        "      for i in range(1,5):\n",
        "          messageTitle2.append(title_movies_fin.iloc[distanceKNN.kneighbors([neighborsearchTitle][0])[1][0][i]][3])\n",
        "          messageTitle2.append(title_movies_fin.iloc[distanceKNN.kneighbors([neighborsearchTitle][0])[1][0][i]][40])\n",
        "      return f\"\"\"{messageTitle2[0]}{messageTitle2[1]} {messageTitle2[2]}{messageTitle2[3]}?\\n\\nThen you should check out \\\n",
        "the following movies: \\n- {messageTitle2[4]} with {messageTitle2[5]}, \\n- {messageTitle2[6]} with {messageTitle2[7]},\\\n",
        "\\n- {messageTitle2[8]} with {messageTitle2[9]}, \\n- {messageTitle2[10]} with {messageTitle2[11]}\"\"\"\n",
        "     # return \"I'm sorry, but your search is not specific enough. Maybe try again while providing Imdb id.\"\n",
        " \n",
        "# The interface: adding the title and the introduction paragraph\n",
        "iface = gr.Interface(replace,[gr.inputs.Textbox(), gr.inputs.Textbox(), gr.inputs.Dropdown(sorted(genreTypes)), gr.inputs.Textbox()],\\\n",
        "                     \"text\",\n",
        "                     title=\"Movie recommender\",\\\n",
        "                     description=\"Type the title or the ID of your favorite movie from IMDB \\\n",
        "                     and we recommend you 4 other movies, which you might like.\" + \"\\n\" + \\\n",
        "                     \"Enjoy playing around and have a great MovieMarathon!\", \\\n",
        "                     theme = \"darkhuggingface\")\n",
        "\n",
        "iface.launch()"
      ],
      "execution_count": null,
      "outputs": [
        {
          "output_type": "stream",
          "name": "stdout",
          "text": [
            "Colab notebook detected. To show errors in colab notebook, set `debug=True` in `launch()`\n",
            "Running on public URL: https://58034.gradio.app\n",
            "\n",
            "This share link will expire in 72 hours. To get longer links, send an email to: support@gradio.app\n"
          ]
        },
        {
          "output_type": "display_data",
          "data": {
            "text/html": [
              "\n",
              "        <iframe\n",
              "            width=\"900\"\n",
              "            height=\"500\"\n",
              "            src=\"https://58034.gradio.app\"\n",
              "            frameborder=\"0\"\n",
              "            allowfullscreen\n",
              "        ></iframe>\n",
              "        "
            ],
            "text/plain": [
              "<IPython.lib.display.IFrame at 0x7f4b7ac1d410>"
            ]
          },
          "metadata": {}
        },
        {
          "output_type": "execute_result",
          "data": {
            "text/plain": [
              "(<Flask 'gradio.networking'>,\n",
              " 'http://127.0.0.1:7874/',\n",
              " 'https://58034.gradio.app')"
            ]
          },
          "metadata": {},
          "execution_count": 84
        }
      ]
    },
    {
      "cell_type": "code",
      "metadata": {
        "colab": {
          "base_uri": "https://localhost:8080/",
          "height": 86
        },
        "id": "8oxQlQfPAM5P",
        "outputId": "c28294c8-cddf-4151-b468-e2c57b93d8e6"
      },
      "source": [
        "replace(\"\", \"\", \"Biography\", \"\")"
      ],
      "execution_count": null,
      "outputs": [
        {
          "output_type": "execute_result",
          "data": {
            "application/vnd.google.colaboratory.intrinsic+json": {
              "type": "string"
            },
            "text/plain": [
              "'Did you like The Wolf of Wall Street with Leonardo DiCaprio, Jonah Hill, Margot Robbie, Matthew McConaughey?\\n\\nThen you should check out the following movies: \\n- Goodfellas with Robert De Niro, Ray Liotta, Joe Pesci, Lorraine Bracco, \\n- The Godfather: Part II with Al Pacino, Robert De Niro, Robert Duvall, Diane Keaton,\\n- Catch Me If You Can with Leonardo DiCaprio, Tom Hanks, Christopher Walken, Martin Sheen, \\n- The Departed with Leonardo DiCaprio, Matt Damon, Jack Nicholson, Mark Wahlberg'"
            ]
          },
          "metadata": {},
          "execution_count": 87
        }
      ]
    },
    {
      "cell_type": "code",
      "metadata": {
        "id": "YdGN51bha8_7"
      },
      "source": [
        "# For debugging: \n",
        "# print(replace(\"tt0111161\", \"1994\", \"Drama\"))"
      ],
      "execution_count": null,
      "outputs": []
    },
    {
      "cell_type": "code",
      "metadata": {
        "id": "4tKQxxi-VqfS"
      },
      "source": [
        "# For quick checking\n",
        "# tt0111161\n",
        "# tt0293927\n",
        "# title_movies_fin[title_movies_fin[\"primaryTitle\"].str.contains(\"Holiday\")]"
      ],
      "execution_count": null,
      "outputs": []
    },
    {
      "cell_type": "code",
      "metadata": {
        "id": "7VHXuQ2AFX8y"
      },
      "source": [
        "# Obv.if for actors you check with \"Tom Cruise\"\n",
        "# title_movies_fin[title_movies_fin[\"actors\"].str.contains(\"Tom Cruise\")]#.iloc[0][40]"
      ],
      "execution_count": null,
      "outputs": []
    },
    {
      "cell_type": "code",
      "metadata": {
        "colab": {
          "base_uri": "https://localhost:8080/",
          "height": 35
        },
        "id": "qkjYTdg4oA06",
        "outputId": "013c4481-67b4-45e6-951d-5a9db79b36e4"
      },
      "source": [
        "# For quick testing:\n",
        "# title_movies_fin[title_movies_fin[\"title_id\"] == \"tt0111161\"].iloc[0][40]"
      ],
      "execution_count": null,
      "outputs": [
        {
          "output_type": "execute_result",
          "data": {
            "application/vnd.google.colaboratory.intrinsic+json": {
              "type": "string"
            },
            "text/plain": [
              "'Tim Robbins,Morgan Freeman,Bob Gunton,William Sadler'"
            ]
          },
          "metadata": {},
          "execution_count": 211
        }
      ]
    },
    {
      "cell_type": "code",
      "metadata": {
        "id": "edpUGrMddPIo"
      },
      "source": [
        "# title_movies_fin[title_movies_fin[\"actors\"].str.contains(\"Mel Gibson\")]"
      ],
      "execution_count": null,
      "outputs": []
    },
    {
      "cell_type": "code",
      "metadata": {
        "id": "hJMU_LyriJmt"
      },
      "source": [
        "# Checking if combination for primaryTitle and originalTitle as filter criteria works\n",
        "\"\"\"filterTitle = (title_movies_fin[\"primaryTitle\"].str.contains(\"Bohemios\", case = True)) | \\\n",
        "  (title_movies_fin[\"originalTitle\"].str.contains(\"Bohemios\", case = True)) \n",
        "filterTitle \"\"\""
      ],
      "execution_count": null,
      "outputs": []
    },
    {
      "cell_type": "code",
      "metadata": {
        "colab": {
          "base_uri": "https://localhost:8080/"
        },
        "id": "4JmOiszeYIKQ",
        "outputId": "f1201f9d-d73f-41a5-8aef-36469c9f3874"
      },
      "source": [
        "# Checking the shape for movie features\n",
        "# While playing with different criteria\n",
        "\n",
        "# filterID = title_movies_fin[\"title_id\"] == \"tt0094868\"\n",
        "# filterTitle = title_movies_fin[\"primaryTitle\"].str.contains(movieString, case = True)\n",
        "# filterYear = True\n",
        "# filterGenre = title_movies_fin[\"genres\"].str.contains(\"Malibu\", case = False)\n",
        "# X_scaled[filterID & filterYear & filterGenre]"
      ],
      "execution_count": null,
      "outputs": [
        {
          "output_type": "execute_result",
          "data": {
            "text/plain": [
              "array([], shape=(0, 34), dtype=float64)"
            ]
          },
          "metadata": {},
          "execution_count": 181
        }
      ]
    },
    {
      "cell_type": "code",
      "metadata": {
        "colab": {
          "base_uri": "https://localhost:8080/"
        },
        "id": "Y2Dnd2Z6ZACI",
        "outputId": "5a915b14-e95d-4d55-e67a-260d6e9593b9"
      },
      "source": [
        "# neighborsearch = X_scaled[filterID & filterYear & filterGenre]\n",
        "# neighborsearch.shape"
      ],
      "execution_count": null,
      "outputs": [
        {
          "output_type": "execute_result",
          "data": {
            "text/plain": [
              "(0, 34)"
            ]
          },
          "metadata": {},
          "execution_count": 197
        }
      ]
    },
    {
      "cell_type": "code",
      "metadata": {
        "colab": {
          "base_uri": "https://localhost:8080/"
        },
        "id": "uLjUMcW-jG8h",
        "outputId": "d40005b4-9cc1-4a50-b655-726b885e7c31"
      },
      "source": [
        "# Fine tuning the communication with the user\n",
        "# title_movies_fin[filterTitle].iloc[0][3], title_movies_fin[filterTitle].iloc[0][6] "
      ],
      "execution_count": null,
      "outputs": [
        {
          "output_type": "execute_result",
          "data": {
            "text/plain": [
              "('Bohemios', 1905)"
            ]
          },
          "metadata": {},
          "execution_count": 174
        }
      ]
    },
    {
      "cell_type": "code",
      "metadata": {
        "id": "_VtsDl8UfKGU"
      },
      "source": [
        "# title_movies_fin[title_movies_fin[\"primaryTitle\"].str.contains(\"Star\")]"
      ],
      "execution_count": null,
      "outputs": []
    },
    {
      "cell_type": "markdown",
      "metadata": {
        "id": "T55qPvgRbEGC"
      },
      "source": [
        "Capabilities:\n",
        "- you can enter a movie title, a movie id, a genre, year or actor names and you will get 4 movie recommended by our system;\n",
        "- you can try even if you remember only partially at the movie title, what you liked!\n",
        "- be careful, if you know the movie id the match has to be 100%! \n",
        "\n",
        "What this recommender cannot do currently:\n",
        "- make recommendation based on favorite director, operator, producer;\n",
        "- search on title, which are neither original, nor primary, i.e. Carmencita in Hungarian;\n",
        "- search on language, region;\n",
        "- read your mind - but sure, it tries;\n",
        "- in case the input is very broad, we need more time to consider, what to recommend, it can go even up to 5 min, so be careful with your wishes;\n",
        "\n",
        "Next steps: \n",
        "- include directors in search criteria,\n",
        "- enable the user to select also for recommendation some features, like: hm, i like Tom Cruise and I wanna get recommended Dramas."
      ]
    }
  ]
}